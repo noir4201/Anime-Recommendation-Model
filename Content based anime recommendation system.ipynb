{
 "cells": [
  {
   "cell_type": "code",
   "execution_count": 87,
   "id": "aa8d0e20-8b8d-4329-b231-ea6f6bea4a24",
   "metadata": {},
   "outputs": [],
   "source": [
    "import pandas as pd"
   ]
  },
  {
   "cell_type": "code",
   "execution_count": 2,
   "id": "31fe76a8-dd96-454a-a82c-ee029902d93c",
   "metadata": {},
   "outputs": [],
   "source": [
    "import csv"
   ]
  },
  {
   "cell_type": "code",
   "execution_count": 3,
   "id": "315fdfa4-facd-44fc-831a-db0993dfada4",
   "metadata": {},
   "outputs": [],
   "source": [
    "import numpy as np\n",
    "import numpy.ma as ma\n",
    "import tensorflow as tf\n",
    "from tensorflow import keras\n",
    "from sklearn.preprocessing import StandardScaler, MinMaxScaler\n",
    "from sklearn.model_selection import train_test_split\n",
    "import tabulate"
   ]
  },
  {
   "cell_type": "code",
   "execution_count": 4,
   "id": "3b5c1681-7a85-4c03-9d9c-499fa80be4c7",
   "metadata": {},
   "outputs": [],
   "source": [
    "pd.set_option(\"display.precision\", 1)"
   ]
  },
  {
   "cell_type": "code",
   "execution_count": 234,
   "id": "cbaaea81-0d3d-456c-9ae2-3dd7247c967c",
   "metadata": {},
   "outputs": [
    {
     "data": {
      "text/html": [
       "<div>\n",
       "<style scoped>\n",
       "    .dataframe tbody tr th:only-of-type {\n",
       "        vertical-align: middle;\n",
       "    }\n",
       "\n",
       "    .dataframe tbody tr th {\n",
       "        vertical-align: top;\n",
       "    }\n",
       "\n",
       "    .dataframe thead th {\n",
       "        text-align: right;\n",
       "    }\n",
       "</style>\n",
       "<table border=\"1\" class=\"dataframe\">\n",
       "  <thead>\n",
       "    <tr style=\"text-align: right;\">\n",
       "      <th></th>\n",
       "      <th>0</th>\n",
       "      <th>1</th>\n",
       "      <th>2</th>\n",
       "      <th>3</th>\n",
       "      <th>4</th>\n",
       "      <th>5</th>\n",
       "      <th>6</th>\n",
       "      <th>7</th>\n",
       "      <th>8</th>\n",
       "      <th>9</th>\n",
       "      <th>...</th>\n",
       "      <th>33</th>\n",
       "      <th>34</th>\n",
       "      <th>35</th>\n",
       "      <th>36</th>\n",
       "      <th>37</th>\n",
       "      <th>38</th>\n",
       "      <th>39</th>\n",
       "      <th>40</th>\n",
       "      <th>41</th>\n",
       "      <th>42</th>\n",
       "    </tr>\n",
       "  </thead>\n",
       "  <tbody>\n",
       "    <tr>\n",
       "      <th>0</th>\n",
       "      <td>0</td>\n",
       "      <td>0</td>\n",
       "      <td>0</td>\n",
       "      <td>0</td>\n",
       "      <td>0</td>\n",
       "      <td>0</td>\n",
       "      <td>1</td>\n",
       "      <td>0</td>\n",
       "      <td>0</td>\n",
       "      <td>0</td>\n",
       "      <td>...</td>\n",
       "      <td>0</td>\n",
       "      <td>0</td>\n",
       "      <td>0</td>\n",
       "      <td>0</td>\n",
       "      <td>0</td>\n",
       "      <td>1</td>\n",
       "      <td>0</td>\n",
       "      <td>0</td>\n",
       "      <td>0</td>\n",
       "      <td>0</td>\n",
       "    </tr>\n",
       "    <tr>\n",
       "      <th>1</th>\n",
       "      <td>1</td>\n",
       "      <td>1</td>\n",
       "      <td>0</td>\n",
       "      <td>0</td>\n",
       "      <td>0</td>\n",
       "      <td>0</td>\n",
       "      <td>1</td>\n",
       "      <td>0</td>\n",
       "      <td>1</td>\n",
       "      <td>0</td>\n",
       "      <td>...</td>\n",
       "      <td>0</td>\n",
       "      <td>0</td>\n",
       "      <td>0</td>\n",
       "      <td>0</td>\n",
       "      <td>0</td>\n",
       "      <td>0</td>\n",
       "      <td>0</td>\n",
       "      <td>0</td>\n",
       "      <td>0</td>\n",
       "      <td>0</td>\n",
       "    </tr>\n",
       "    <tr>\n",
       "      <th>2</th>\n",
       "      <td>1</td>\n",
       "      <td>0</td>\n",
       "      <td>0</td>\n",
       "      <td>1</td>\n",
       "      <td>0</td>\n",
       "      <td>0</td>\n",
       "      <td>0</td>\n",
       "      <td>0</td>\n",
       "      <td>0</td>\n",
       "      <td>0</td>\n",
       "      <td>...</td>\n",
       "      <td>0</td>\n",
       "      <td>0</td>\n",
       "      <td>0</td>\n",
       "      <td>0</td>\n",
       "      <td>0</td>\n",
       "      <td>0</td>\n",
       "      <td>0</td>\n",
       "      <td>0</td>\n",
       "      <td>0</td>\n",
       "      <td>0</td>\n",
       "    </tr>\n",
       "    <tr>\n",
       "      <th>3</th>\n",
       "      <td>0</td>\n",
       "      <td>0</td>\n",
       "      <td>0</td>\n",
       "      <td>0</td>\n",
       "      <td>0</td>\n",
       "      <td>0</td>\n",
       "      <td>0</td>\n",
       "      <td>0</td>\n",
       "      <td>0</td>\n",
       "      <td>0</td>\n",
       "      <td>...</td>\n",
       "      <td>0</td>\n",
       "      <td>0</td>\n",
       "      <td>0</td>\n",
       "      <td>0</td>\n",
       "      <td>0</td>\n",
       "      <td>0</td>\n",
       "      <td>1</td>\n",
       "      <td>0</td>\n",
       "      <td>0</td>\n",
       "      <td>0</td>\n",
       "    </tr>\n",
       "    <tr>\n",
       "      <th>4</th>\n",
       "      <td>1</td>\n",
       "      <td>0</td>\n",
       "      <td>0</td>\n",
       "      <td>1</td>\n",
       "      <td>0</td>\n",
       "      <td>0</td>\n",
       "      <td>0</td>\n",
       "      <td>0</td>\n",
       "      <td>0</td>\n",
       "      <td>0</td>\n",
       "      <td>...</td>\n",
       "      <td>0</td>\n",
       "      <td>0</td>\n",
       "      <td>0</td>\n",
       "      <td>0</td>\n",
       "      <td>0</td>\n",
       "      <td>0</td>\n",
       "      <td>0</td>\n",
       "      <td>0</td>\n",
       "      <td>0</td>\n",
       "      <td>0</td>\n",
       "    </tr>\n",
       "    <tr>\n",
       "      <th>...</th>\n",
       "      <td>...</td>\n",
       "      <td>...</td>\n",
       "      <td>...</td>\n",
       "      <td>...</td>\n",
       "      <td>...</td>\n",
       "      <td>...</td>\n",
       "      <td>...</td>\n",
       "      <td>...</td>\n",
       "      <td>...</td>\n",
       "      <td>...</td>\n",
       "      <td>...</td>\n",
       "      <td>...</td>\n",
       "      <td>...</td>\n",
       "      <td>...</td>\n",
       "      <td>...</td>\n",
       "      <td>...</td>\n",
       "      <td>...</td>\n",
       "      <td>...</td>\n",
       "      <td>...</td>\n",
       "      <td>...</td>\n",
       "      <td>...</td>\n",
       "    </tr>\n",
       "    <tr>\n",
       "      <th>12289</th>\n",
       "      <td>0</td>\n",
       "      <td>0</td>\n",
       "      <td>0</td>\n",
       "      <td>0</td>\n",
       "      <td>0</td>\n",
       "      <td>0</td>\n",
       "      <td>0</td>\n",
       "      <td>0</td>\n",
       "      <td>0</td>\n",
       "      <td>0</td>\n",
       "      <td>...</td>\n",
       "      <td>0</td>\n",
       "      <td>0</td>\n",
       "      <td>0</td>\n",
       "      <td>0</td>\n",
       "      <td>0</td>\n",
       "      <td>0</td>\n",
       "      <td>0</td>\n",
       "      <td>0</td>\n",
       "      <td>0</td>\n",
       "      <td>0</td>\n",
       "    </tr>\n",
       "    <tr>\n",
       "      <th>12290</th>\n",
       "      <td>0</td>\n",
       "      <td>0</td>\n",
       "      <td>0</td>\n",
       "      <td>0</td>\n",
       "      <td>0</td>\n",
       "      <td>0</td>\n",
       "      <td>0</td>\n",
       "      <td>0</td>\n",
       "      <td>0</td>\n",
       "      <td>0</td>\n",
       "      <td>...</td>\n",
       "      <td>0</td>\n",
       "      <td>0</td>\n",
       "      <td>0</td>\n",
       "      <td>0</td>\n",
       "      <td>0</td>\n",
       "      <td>0</td>\n",
       "      <td>0</td>\n",
       "      <td>0</td>\n",
       "      <td>0</td>\n",
       "      <td>0</td>\n",
       "    </tr>\n",
       "    <tr>\n",
       "      <th>12291</th>\n",
       "      <td>0</td>\n",
       "      <td>0</td>\n",
       "      <td>0</td>\n",
       "      <td>0</td>\n",
       "      <td>0</td>\n",
       "      <td>0</td>\n",
       "      <td>0</td>\n",
       "      <td>0</td>\n",
       "      <td>0</td>\n",
       "      <td>0</td>\n",
       "      <td>...</td>\n",
       "      <td>0</td>\n",
       "      <td>0</td>\n",
       "      <td>0</td>\n",
       "      <td>0</td>\n",
       "      <td>0</td>\n",
       "      <td>0</td>\n",
       "      <td>0</td>\n",
       "      <td>0</td>\n",
       "      <td>0</td>\n",
       "      <td>0</td>\n",
       "    </tr>\n",
       "    <tr>\n",
       "      <th>12292</th>\n",
       "      <td>0</td>\n",
       "      <td>0</td>\n",
       "      <td>0</td>\n",
       "      <td>0</td>\n",
       "      <td>0</td>\n",
       "      <td>0</td>\n",
       "      <td>0</td>\n",
       "      <td>0</td>\n",
       "      <td>0</td>\n",
       "      <td>0</td>\n",
       "      <td>...</td>\n",
       "      <td>0</td>\n",
       "      <td>0</td>\n",
       "      <td>0</td>\n",
       "      <td>0</td>\n",
       "      <td>0</td>\n",
       "      <td>0</td>\n",
       "      <td>0</td>\n",
       "      <td>0</td>\n",
       "      <td>0</td>\n",
       "      <td>0</td>\n",
       "    </tr>\n",
       "    <tr>\n",
       "      <th>12293</th>\n",
       "      <td>0</td>\n",
       "      <td>0</td>\n",
       "      <td>0</td>\n",
       "      <td>0</td>\n",
       "      <td>0</td>\n",
       "      <td>0</td>\n",
       "      <td>0</td>\n",
       "      <td>0</td>\n",
       "      <td>0</td>\n",
       "      <td>0</td>\n",
       "      <td>...</td>\n",
       "      <td>0</td>\n",
       "      <td>0</td>\n",
       "      <td>0</td>\n",
       "      <td>0</td>\n",
       "      <td>0</td>\n",
       "      <td>0</td>\n",
       "      <td>0</td>\n",
       "      <td>0</td>\n",
       "      <td>0</td>\n",
       "      <td>0</td>\n",
       "    </tr>\n",
       "  </tbody>\n",
       "</table>\n",
       "<p>12294 rows × 43 columns</p>\n",
       "</div>"
      ],
      "text/plain": [
       "       0  1  2  3  4  5  6  7  8  9  ...  33  34  35  36  37  38  39  40  41  \\\n",
       "0      0  0  0  0  0  0  1  0  0  0  ...   0   0   0   0   0   1   0   0   0   \n",
       "1      1  1  0  0  0  0  1  0  1  0  ...   0   0   0   0   0   0   0   0   0   \n",
       "2      1  0  0  1  0  0  0  0  0  0  ...   0   0   0   0   0   0   0   0   0   \n",
       "3      0  0  0  0  0  0  0  0  0  0  ...   0   0   0   0   0   0   1   0   0   \n",
       "4      1  0  0  1  0  0  0  0  0  0  ...   0   0   0   0   0   0   0   0   0   \n",
       "...   .. .. .. .. .. .. .. .. .. ..  ...  ..  ..  ..  ..  ..  ..  ..  ..  ..   \n",
       "12289  0  0  0  0  0  0  0  0  0  0  ...   0   0   0   0   0   0   0   0   0   \n",
       "12290  0  0  0  0  0  0  0  0  0  0  ...   0   0   0   0   0   0   0   0   0   \n",
       "12291  0  0  0  0  0  0  0  0  0  0  ...   0   0   0   0   0   0   0   0   0   \n",
       "12292  0  0  0  0  0  0  0  0  0  0  ...   0   0   0   0   0   0   0   0   0   \n",
       "12293  0  0  0  0  0  0  0  0  0  0  ...   0   0   0   0   0   0   0   0   0   \n",
       "\n",
       "       42  \n",
       "0       0  \n",
       "1       0  \n",
       "2       0  \n",
       "3       0  \n",
       "4       0  \n",
       "...    ..  \n",
       "12289   0  \n",
       "12290   0  \n",
       "12291   0  \n",
       "12292   0  \n",
       "12293   0  \n",
       "\n",
       "[12294 rows x 43 columns]"
      ]
     },
     "execution_count": 234,
     "metadata": {},
     "output_type": "execute_result"
    }
   ],
   "source": [
    "item_train = pd.read_csv('cleaned_converted_data.csv')\n",
    "item_train"
   ]
  },
  {
   "cell_type": "code",
   "execution_count": 235,
   "id": "9edca6d9-2f9a-4cfe-bd4f-b629d0b5369f",
   "metadata": {},
   "outputs": [
    {
     "data": {
      "text/html": [
       "<div>\n",
       "<style scoped>\n",
       "    .dataframe tbody tr th:only-of-type {\n",
       "        vertical-align: middle;\n",
       "    }\n",
       "\n",
       "    .dataframe tbody tr th {\n",
       "        vertical-align: top;\n",
       "    }\n",
       "\n",
       "    .dataframe thead th {\n",
       "        text-align: right;\n",
       "    }\n",
       "</style>\n",
       "<table border=\"1\" class=\"dataframe\">\n",
       "  <thead>\n",
       "    <tr style=\"text-align: right;\">\n",
       "      <th></th>\n",
       "      <th>user_id</th>\n",
       "      <th>anime_id</th>\n",
       "      <th>rating</th>\n",
       "    </tr>\n",
       "  </thead>\n",
       "  <tbody>\n",
       "    <tr>\n",
       "      <th>0</th>\n",
       "      <td>1</td>\n",
       "      <td>20</td>\n",
       "      <td>-1</td>\n",
       "    </tr>\n",
       "    <tr>\n",
       "      <th>1</th>\n",
       "      <td>1</td>\n",
       "      <td>24</td>\n",
       "      <td>-1</td>\n",
       "    </tr>\n",
       "    <tr>\n",
       "      <th>2</th>\n",
       "      <td>1</td>\n",
       "      <td>79</td>\n",
       "      <td>-1</td>\n",
       "    </tr>\n",
       "    <tr>\n",
       "      <th>3</th>\n",
       "      <td>1</td>\n",
       "      <td>226</td>\n",
       "      <td>-1</td>\n",
       "    </tr>\n",
       "    <tr>\n",
       "      <th>4</th>\n",
       "      <td>1</td>\n",
       "      <td>241</td>\n",
       "      <td>-1</td>\n",
       "    </tr>\n",
       "    <tr>\n",
       "      <th>...</th>\n",
       "      <td>...</td>\n",
       "      <td>...</td>\n",
       "      <td>...</td>\n",
       "    </tr>\n",
       "    <tr>\n",
       "      <th>7813732</th>\n",
       "      <td>73515</td>\n",
       "      <td>16512</td>\n",
       "      <td>7</td>\n",
       "    </tr>\n",
       "    <tr>\n",
       "      <th>7813733</th>\n",
       "      <td>73515</td>\n",
       "      <td>17187</td>\n",
       "      <td>9</td>\n",
       "    </tr>\n",
       "    <tr>\n",
       "      <th>7813734</th>\n",
       "      <td>73515</td>\n",
       "      <td>22145</td>\n",
       "      <td>10</td>\n",
       "    </tr>\n",
       "    <tr>\n",
       "      <th>7813735</th>\n",
       "      <td>73516</td>\n",
       "      <td>790</td>\n",
       "      <td>9</td>\n",
       "    </tr>\n",
       "    <tr>\n",
       "      <th>7813736</th>\n",
       "      <td>73516</td>\n",
       "      <td>8074</td>\n",
       "      <td>9</td>\n",
       "    </tr>\n",
       "  </tbody>\n",
       "</table>\n",
       "<p>7813737 rows × 3 columns</p>\n",
       "</div>"
      ],
      "text/plain": [
       "         user_id  anime_id  rating\n",
       "0              1        20      -1\n",
       "1              1        24      -1\n",
       "2              1        79      -1\n",
       "3              1       226      -1\n",
       "4              1       241      -1\n",
       "...          ...       ...     ...\n",
       "7813732    73515     16512       7\n",
       "7813733    73515     17187       9\n",
       "7813734    73515     22145      10\n",
       "7813735    73516       790       9\n",
       "7813736    73516      8074       9\n",
       "\n",
       "[7813737 rows x 3 columns]"
      ]
     },
     "execution_count": 235,
     "metadata": {},
     "output_type": "execute_result"
    }
   ],
   "source": [
    "rating_df = pd.read_csv(\"rating.csv\")\n",
    "rating_df"
   ]
  },
  {
   "cell_type": "code",
   "execution_count": 236,
   "id": "585e234d-3ea1-418b-9d7e-52b536aeeaec",
   "metadata": {},
   "outputs": [
    {
     "data": {
      "text/plain": [
       "array([[ 0.        ,  0.        ,  0.        , ...,  0.        ,\n",
       "         0.        ,  0.        ],\n",
       "       [ 7.29032258,  7.53191489,  0.        , ...,  6.        ,\n",
       "         0.        ,  0.        ],\n",
       "       [ 4.7012987 ,  5.18681319,  6.        , ...,  4.42857143,\n",
       "         0.        ,  0.        ],\n",
       "       ...,\n",
       "       [ 7.92307692,  7.55555556,  0.        , ..., 10.        ,\n",
       "         0.        ,  0.        ],\n",
       "       [ 9.        ,  8.25      ,  0.        , ...,  7.        ,\n",
       "         0.        ,  0.        ],\n",
       "       [ 8.55555556,  8.66666667,  0.        , ...,  9.        ,\n",
       "         0.        ,  0.        ]])"
      ]
     },
     "execution_count": 236,
     "metadata": {},
     "output_type": "execute_result"
    }
   ],
   "source": [
    "user_train=pd.read_csv(\"user_genre_avg_ratings_subset_no_header.csv\")\n",
    "user_train = np.nan_to_num(user_train, nan=0.0)\n",
    "user_train"
   ]
  },
  {
   "cell_type": "code",
   "execution_count": 237,
   "id": "231cc81c-bc41-4634-b601-4ef238b99295",
   "metadata": {},
   "outputs": [
    {
     "name": "stdout",
     "output_type": "stream",
     "text": [
      "Number of training vectors: 12294\n",
      "Number of training vectors: 9466\n"
     ]
    }
   ],
   "source": [
    "num_user_features = user_train.shape[1] \n",
    "num_item_features = item_train.shape[1]  \n",
    "uvs = 3  # user genre vector start\n",
    "ivs = 3  # item genre vector start\n",
    "u_s = 1  # start of columns to use in training, user\n",
    "i_s = 1  # start of columns to use in training, items\n",
    "print(f\"Number of training vectors: {len(item_train)}\")\n",
    "print(f\"Number of training vectors: {len(user_train)}\")"
   ]
  },
  {
   "cell_type": "code",
   "execution_count": 238,
   "id": "e6a18b5f-7785-4fd7-9deb-a3ec5d6baa41",
   "metadata": {},
   "outputs": [
    {
     "data": {
      "text/html": [
       "<div>\n",
       "<style scoped>\n",
       "    .dataframe tbody tr th:only-of-type {\n",
       "        vertical-align: middle;\n",
       "    }\n",
       "\n",
       "    .dataframe tbody tr th {\n",
       "        vertical-align: top;\n",
       "    }\n",
       "\n",
       "    .dataframe thead th {\n",
       "        text-align: right;\n",
       "    }\n",
       "</style>\n",
       "<table border=\"1\" class=\"dataframe\">\n",
       "  <thead>\n",
       "    <tr style=\"text-align: right;\">\n",
       "      <th></th>\n",
       "      <th>9.37</th>\n",
       "    </tr>\n",
       "  </thead>\n",
       "  <tbody>\n",
       "    <tr>\n",
       "      <th>0</th>\n",
       "      <td>9.3</td>\n",
       "    </tr>\n",
       "    <tr>\n",
       "      <th>1</th>\n",
       "      <td>9.2</td>\n",
       "    </tr>\n",
       "    <tr>\n",
       "      <th>2</th>\n",
       "      <td>9.2</td>\n",
       "    </tr>\n",
       "    <tr>\n",
       "      <th>3</th>\n",
       "      <td>9.2</td>\n",
       "    </tr>\n",
       "    <tr>\n",
       "      <th>4</th>\n",
       "      <td>9.2</td>\n",
       "    </tr>\n",
       "    <tr>\n",
       "      <th>...</th>\n",
       "      <td>...</td>\n",
       "    </tr>\n",
       "    <tr>\n",
       "      <th>12058</th>\n",
       "      <td>4.2</td>\n",
       "    </tr>\n",
       "    <tr>\n",
       "      <th>12059</th>\n",
       "      <td>4.3</td>\n",
       "    </tr>\n",
       "    <tr>\n",
       "      <th>12060</th>\n",
       "      <td>4.9</td>\n",
       "    </tr>\n",
       "    <tr>\n",
       "      <th>12061</th>\n",
       "      <td>5.0</td>\n",
       "    </tr>\n",
       "    <tr>\n",
       "      <th>12062</th>\n",
       "      <td>5.5</td>\n",
       "    </tr>\n",
       "  </tbody>\n",
       "</table>\n",
       "<p>12063 rows × 1 columns</p>\n",
       "</div>"
      ],
      "text/plain": [
       "       9.37\n",
       "0       9.3\n",
       "1       9.2\n",
       "2       9.2\n",
       "3       9.2\n",
       "4       9.2\n",
       "...     ...\n",
       "12058   4.2\n",
       "12059   4.3\n",
       "12060   4.9\n",
       "12061   5.0\n",
       "12062   5.5\n",
       "\n",
       "[12063 rows x 1 columns]"
      ]
     },
     "execution_count": 238,
     "metadata": {},
     "output_type": "execute_result"
    }
   ],
   "source": [
    "y_train=pd.read_csv(\"rating_only.csv\")\n",
    "y_train"
   ]
  },
  {
   "cell_type": "code",
   "execution_count": 239,
   "id": "57c85054-524b-467a-b2db-50ec245c7736",
   "metadata": {},
   "outputs": [
    {
     "name": "stdout",
     "output_type": "stream",
     "text": [
      "True\n",
      "True\n"
     ]
    }
   ],
   "source": [
    "item_train_unscaled = item_train\n",
    "user_train_unscaled = user_train\n",
    "\n",
    "y_train_unscaled    = y_train\n",
    "\n",
    "scalerItem = StandardScaler()\n",
    "scalerItem.fit(item_train)\n",
    "item_train = scalerItem.transform(item_train)\n",
    "\n",
    "\n",
    "scalerUser = StandardScaler()\n",
    "scalerUser.fit(user_train)\n",
    "user_train = scalerUser.transform(user_train)\n",
    "\n",
    "scalerTarget = MinMaxScaler((-1, 1))\n",
    "scalerTarget.fit(np.array(y_train).reshape(-1, 1))\n",
    "y_train = scalerTarget.transform(np.array(y_train).reshape(-1, 1))\n",
    "#ynorm_test = scalerTarget.transform(y_test.reshape(-1, 1))\n",
    "\n",
    "\n",
    "print(np.allclose(item_train_unscaled, scalerItem.inverse_transform(item_train)))\n",
    "print(np.allclose(user_train_unscaled, scalerUser.inverse_transform(user_train)))"
   ]
  },
  {
   "cell_type": "code",
   "execution_count": 240,
   "id": "02d3848f-5a1f-4365-9144-c65b50b5a805",
   "metadata": {},
   "outputs": [
    {
     "name": "stdout",
     "output_type": "stream",
     "text": [
      "movie/item training data shape: (9835, 43)\n",
      "movie/item test data shape: (2459, 43)\n",
      "user training data shape: (7572, 43)\n",
      "user test data shape: (1894, 43)\n"
     ]
    }
   ],
   "source": [
    "item_train, item_test = train_test_split(item_train, train_size=0.80, shuffle=True, random_state=1)\n",
    "user_train, user_test = train_test_split(user_train, train_size=0.80, shuffle=True, random_state=1)\n",
    "y_train, y_test       = train_test_split(y_train,    train_size=0.80, shuffle=True, random_state=1)\n",
    "print(f\"movie/item training data shape: {item_train.shape}\")\n",
    "\n",
    "print(f\"movie/item test data shape: {item_test.shape}\")\n",
    "print(f\"user training data shape: {user_train.shape}\")\n",
    "print(f\"user test data shape: {user_test.shape}\")"
   ]
  },
  {
   "cell_type": "code",
   "execution_count": 181,
   "id": "a0a1f792-b260-4e7b-81dd-9f855e71a102",
   "metadata": {},
   "outputs": [],
   "source": [
    "from tensorflow.keras.layers import Lambda"
   ]
  },
  {
   "cell_type": "code",
   "execution_count": 241,
   "id": "00c49556-d2e1-4941-8d0e-7cda0cd97d9a",
   "metadata": {},
   "outputs": [
    {
     "data": {
      "text/html": [
       "<pre style=\"white-space:pre;overflow-x:auto;line-height:normal;font-family:Menlo,'DejaVu Sans Mono',consolas,'Courier New',monospace\"><span style=\"font-weight: bold\">Model: \"functional_54\"</span>\n",
       "</pre>\n"
      ],
      "text/plain": [
       "\u001b[1mModel: \"functional_54\"\u001b[0m\n"
      ]
     },
     "metadata": {},
     "output_type": "display_data"
    },
    {
     "data": {
      "text/html": [
       "<pre style=\"white-space:pre;overflow-x:auto;line-height:normal;font-family:Menlo,'DejaVu Sans Mono',consolas,'Courier New',monospace\">┏━━━━━━━━━━━━━━━━━━━━━━━━━━━━━━━┳━━━━━━━━━━━━━━━━━━━━━━━━━━━┳━━━━━━━━━━━━━━━━━┳━━━━━━━━━━━━━━━━━━━━━━━━━━━━┓\n",
       "┃<span style=\"font-weight: bold\"> Layer (type)                  </span>┃<span style=\"font-weight: bold\"> Output Shape              </span>┃<span style=\"font-weight: bold\">         Param # </span>┃<span style=\"font-weight: bold\"> Connected to               </span>┃\n",
       "┡━━━━━━━━━━━━━━━━━━━━━━━━━━━━━━━╇━━━━━━━━━━━━━━━━━━━━━━━━━━━╇━━━━━━━━━━━━━━━━━╇━━━━━━━━━━━━━━━━━━━━━━━━━━━━┩\n",
       "│ input_layer_70 (<span style=\"color: #0087ff; text-decoration-color: #0087ff\">InputLayer</span>)   │ (<span style=\"color: #00d7ff; text-decoration-color: #00d7ff\">None</span>, <span style=\"color: #00af00; text-decoration-color: #00af00\">43</span>)                │               <span style=\"color: #00af00; text-decoration-color: #00af00\">0</span> │ -                          │\n",
       "├───────────────────────────────┼───────────────────────────┼─────────────────┼────────────────────────────┤\n",
       "│ input_layer_72 (<span style=\"color: #0087ff; text-decoration-color: #0087ff\">InputLayer</span>)   │ (<span style=\"color: #00d7ff; text-decoration-color: #00d7ff\">None</span>, <span style=\"color: #00af00; text-decoration-color: #00af00\">43</span>)                │               <span style=\"color: #00af00; text-decoration-color: #00af00\">0</span> │ -                          │\n",
       "├───────────────────────────────┼───────────────────────────┼─────────────────┼────────────────────────────┤\n",
       "│ sequential_36 (<span style=\"color: #0087ff; text-decoration-color: #0087ff\">Sequential</span>)    │ (<span style=\"color: #00d7ff; text-decoration-color: #00d7ff\">None</span>, <span style=\"color: #00af00; text-decoration-color: #00af00\">32</span>)                │          <span style=\"color: #00af00; text-decoration-color: #00af00\">48,288</span> │ input_layer_70[<span style=\"color: #00af00; text-decoration-color: #00af00\">0</span>][<span style=\"color: #00af00; text-decoration-color: #00af00\">0</span>]       │\n",
       "├───────────────────────────────┼───────────────────────────┼─────────────────┼────────────────────────────┤\n",
       "│ sequential_37 (<span style=\"color: #0087ff; text-decoration-color: #0087ff\">Sequential</span>)    │ (<span style=\"color: #00d7ff; text-decoration-color: #00d7ff\">None</span>, <span style=\"color: #00af00; text-decoration-color: #00af00\">32</span>)                │          <span style=\"color: #00af00; text-decoration-color: #00af00\">48,288</span> │ input_layer_72[<span style=\"color: #00af00; text-decoration-color: #00af00\">0</span>][<span style=\"color: #00af00; text-decoration-color: #00af00\">0</span>]       │\n",
       "├───────────────────────────────┼───────────────────────────┼─────────────────┼────────────────────────────┤\n",
       "│ lambda_34 (<span style=\"color: #0087ff; text-decoration-color: #0087ff\">Lambda</span>)            │ (<span style=\"color: #00d7ff; text-decoration-color: #00d7ff\">None</span>, <span style=\"color: #00af00; text-decoration-color: #00af00\">32</span>)                │               <span style=\"color: #00af00; text-decoration-color: #00af00\">0</span> │ sequential_36[<span style=\"color: #00af00; text-decoration-color: #00af00\">0</span>][<span style=\"color: #00af00; text-decoration-color: #00af00\">0</span>]        │\n",
       "├───────────────────────────────┼───────────────────────────┼─────────────────┼────────────────────────────┤\n",
       "│ lambda_35 (<span style=\"color: #0087ff; text-decoration-color: #0087ff\">Lambda</span>)            │ (<span style=\"color: #00d7ff; text-decoration-color: #00d7ff\">None</span>, <span style=\"color: #00af00; text-decoration-color: #00af00\">32</span>)                │               <span style=\"color: #00af00; text-decoration-color: #00af00\">0</span> │ sequential_37[<span style=\"color: #00af00; text-decoration-color: #00af00\">0</span>][<span style=\"color: #00af00; text-decoration-color: #00af00\">0</span>]        │\n",
       "├───────────────────────────────┼───────────────────────────┼─────────────────┼────────────────────────────┤\n",
       "│ dot_17 (<span style=\"color: #0087ff; text-decoration-color: #0087ff\">Dot</span>)                  │ (<span style=\"color: #00d7ff; text-decoration-color: #00d7ff\">None</span>, <span style=\"color: #00af00; text-decoration-color: #00af00\">1</span>)                 │               <span style=\"color: #00af00; text-decoration-color: #00af00\">0</span> │ lambda_34[<span style=\"color: #00af00; text-decoration-color: #00af00\">0</span>][<span style=\"color: #00af00; text-decoration-color: #00af00\">0</span>],           │\n",
       "│                               │                           │                 │ lambda_35[<span style=\"color: #00af00; text-decoration-color: #00af00\">0</span>][<span style=\"color: #00af00; text-decoration-color: #00af00\">0</span>]            │\n",
       "└───────────────────────────────┴───────────────────────────┴─────────────────┴────────────────────────────┘\n",
       "</pre>\n"
      ],
      "text/plain": [
       "┏━━━━━━━━━━━━━━━━━━━━━━━━━━━━━━━┳━━━━━━━━━━━━━━━━━━━━━━━━━━━┳━━━━━━━━━━━━━━━━━┳━━━━━━━━━━━━━━━━━━━━━━━━━━━━┓\n",
       "┃\u001b[1m \u001b[0m\u001b[1mLayer (type)                 \u001b[0m\u001b[1m \u001b[0m┃\u001b[1m \u001b[0m\u001b[1mOutput Shape             \u001b[0m\u001b[1m \u001b[0m┃\u001b[1m \u001b[0m\u001b[1m        Param #\u001b[0m\u001b[1m \u001b[0m┃\u001b[1m \u001b[0m\u001b[1mConnected to              \u001b[0m\u001b[1m \u001b[0m┃\n",
       "┡━━━━━━━━━━━━━━━━━━━━━━━━━━━━━━━╇━━━━━━━━━━━━━━━━━━━━━━━━━━━╇━━━━━━━━━━━━━━━━━╇━━━━━━━━━━━━━━━━━━━━━━━━━━━━┩\n",
       "│ input_layer_70 (\u001b[38;5;33mInputLayer\u001b[0m)   │ (\u001b[38;5;45mNone\u001b[0m, \u001b[38;5;34m43\u001b[0m)                │               \u001b[38;5;34m0\u001b[0m │ -                          │\n",
       "├───────────────────────────────┼───────────────────────────┼─────────────────┼────────────────────────────┤\n",
       "│ input_layer_72 (\u001b[38;5;33mInputLayer\u001b[0m)   │ (\u001b[38;5;45mNone\u001b[0m, \u001b[38;5;34m43\u001b[0m)                │               \u001b[38;5;34m0\u001b[0m │ -                          │\n",
       "├───────────────────────────────┼───────────────────────────┼─────────────────┼────────────────────────────┤\n",
       "│ sequential_36 (\u001b[38;5;33mSequential\u001b[0m)    │ (\u001b[38;5;45mNone\u001b[0m, \u001b[38;5;34m32\u001b[0m)                │          \u001b[38;5;34m48,288\u001b[0m │ input_layer_70[\u001b[38;5;34m0\u001b[0m][\u001b[38;5;34m0\u001b[0m]       │\n",
       "├───────────────────────────────┼───────────────────────────┼─────────────────┼────────────────────────────┤\n",
       "│ sequential_37 (\u001b[38;5;33mSequential\u001b[0m)    │ (\u001b[38;5;45mNone\u001b[0m, \u001b[38;5;34m32\u001b[0m)                │          \u001b[38;5;34m48,288\u001b[0m │ input_layer_72[\u001b[38;5;34m0\u001b[0m][\u001b[38;5;34m0\u001b[0m]       │\n",
       "├───────────────────────────────┼───────────────────────────┼─────────────────┼────────────────────────────┤\n",
       "│ lambda_34 (\u001b[38;5;33mLambda\u001b[0m)            │ (\u001b[38;5;45mNone\u001b[0m, \u001b[38;5;34m32\u001b[0m)                │               \u001b[38;5;34m0\u001b[0m │ sequential_36[\u001b[38;5;34m0\u001b[0m][\u001b[38;5;34m0\u001b[0m]        │\n",
       "├───────────────────────────────┼───────────────────────────┼─────────────────┼────────────────────────────┤\n",
       "│ lambda_35 (\u001b[38;5;33mLambda\u001b[0m)            │ (\u001b[38;5;45mNone\u001b[0m, \u001b[38;5;34m32\u001b[0m)                │               \u001b[38;5;34m0\u001b[0m │ sequential_37[\u001b[38;5;34m0\u001b[0m][\u001b[38;5;34m0\u001b[0m]        │\n",
       "├───────────────────────────────┼───────────────────────────┼─────────────────┼────────────────────────────┤\n",
       "│ dot_17 (\u001b[38;5;33mDot\u001b[0m)                  │ (\u001b[38;5;45mNone\u001b[0m, \u001b[38;5;34m1\u001b[0m)                 │               \u001b[38;5;34m0\u001b[0m │ lambda_34[\u001b[38;5;34m0\u001b[0m][\u001b[38;5;34m0\u001b[0m],           │\n",
       "│                               │                           │                 │ lambda_35[\u001b[38;5;34m0\u001b[0m][\u001b[38;5;34m0\u001b[0m]            │\n",
       "└───────────────────────────────┴───────────────────────────┴─────────────────┴────────────────────────────┘\n"
      ]
     },
     "metadata": {},
     "output_type": "display_data"
    },
    {
     "data": {
      "text/html": [
       "<pre style=\"white-space:pre;overflow-x:auto;line-height:normal;font-family:Menlo,'DejaVu Sans Mono',consolas,'Courier New',monospace\"><span style=\"font-weight: bold\"> Total params: </span><span style=\"color: #00af00; text-decoration-color: #00af00\">96,576</span> (377.25 KB)\n",
       "</pre>\n"
      ],
      "text/plain": [
       "\u001b[1m Total params: \u001b[0m\u001b[38;5;34m96,576\u001b[0m (377.25 KB)\n"
      ]
     },
     "metadata": {},
     "output_type": "display_data"
    },
    {
     "data": {
      "text/html": [
       "<pre style=\"white-space:pre;overflow-x:auto;line-height:normal;font-family:Menlo,'DejaVu Sans Mono',consolas,'Courier New',monospace\"><span style=\"font-weight: bold\"> Trainable params: </span><span style=\"color: #00af00; text-decoration-color: #00af00\">96,576</span> (377.25 KB)\n",
       "</pre>\n"
      ],
      "text/plain": [
       "\u001b[1m Trainable params: \u001b[0m\u001b[38;5;34m96,576\u001b[0m (377.25 KB)\n"
      ]
     },
     "metadata": {},
     "output_type": "display_data"
    },
    {
     "data": {
      "text/html": [
       "<pre style=\"white-space:pre;overflow-x:auto;line-height:normal;font-family:Menlo,'DejaVu Sans Mono',consolas,'Courier New',monospace\"><span style=\"font-weight: bold\"> Non-trainable params: </span><span style=\"color: #00af00; text-decoration-color: #00af00\">0</span> (0.00 B)\n",
       "</pre>\n"
      ],
      "text/plain": [
       "\u001b[1m Non-trainable params: \u001b[0m\u001b[38;5;34m0\u001b[0m (0.00 B)\n"
      ]
     },
     "metadata": {},
     "output_type": "display_data"
    }
   ],
   "source": [
    "from tensorflow.keras.layers import Dense\n",
    "num_outputs = 32\n",
    "tf.random.set_seed(1)\n",
    "user_NN = tf.keras.models.Sequential([     \n",
    "         Dense(units=256,activation='relu'),\n",
    "         Dense(units=128,activation='relu'),\n",
    "         Dense(units=num_outputs,activation='linear')\n",
    "    \n",
    "])\n",
    "\n",
    "item_NN = tf.keras.models.Sequential([    \n",
    "        Dense(units=256,activation='relu'),\n",
    "        Dense(units=128,activation='relu'),\n",
    "        Dense(units=num_outputs,activation='linear')\n",
    "  \n",
    "  \n",
    "])\n",
    "\n",
    "input_user = tf.keras.layers.Input(shape=(num_user_features,))\n",
    "vu = user_NN(input_user)\n",
    "vu = Lambda(lambda x: tf.linalg.l2_normalize(x, axis=1))(vu)\n",
    "input_item = tf.keras.layers.Input(shape=(num_item_features,))\n",
    "vm = item_NN(input_item)\n",
    "vm = Lambda(lambda x: tf.linalg.l2_normalize(x, axis=1))(vm)\n",
    "\n",
    "output = tf.keras.layers.Dot(axes=1)([vu, vm])\n",
    "\n",
    "\n",
    "model = tf.keras.Model([input_user, input_item], output)\n",
    "\n",
    "model.summary()"
   ]
  },
  {
   "cell_type": "code",
   "execution_count": 242,
   "id": "0950c585-e2e5-44ea-829f-634ed0593e4e",
   "metadata": {},
   "outputs": [],
   "source": [
    "tf.random.set_seed(1)\n",
    "cost_fn = tf.keras.losses.MeanSquaredError()\n",
    "opt = keras.optimizers.Adam(learning_rate=0.01)\n",
    "model.compile(optimizer=opt,\n",
    "              loss=cost_fn)"
   ]
  },
  {
   "cell_type": "code",
   "execution_count": 243,
   "id": "c5699559-95ee-4e39-9314-0fff4bf39304",
   "metadata": {},
   "outputs": [
    {
     "name": "stdout",
     "output_type": "stream",
     "text": [
      "user_train shape: (7572, 43)\n",
      "item_train shape: (9835, 43)\n",
      "y_train shape: (9650, 1)\n"
     ]
    }
   ],
   "source": [
    "print(\"user_train shape:\", user_train.shape)\n",
    "print(\"item_train shape:\", item_train.shape)\n",
    "print(\"y_train shape:\", y_train.shape)\n",
    "\n"
   ]
  },
  {
   "cell_type": "code",
   "execution_count": 244,
   "id": "69cf480b-c520-47b7-a5a2-987001660e96",
   "metadata": {},
   "outputs": [
    {
     "name": "stdout",
     "output_type": "stream",
     "text": [
      "(7572, 43) (7572, 43) (7572, 1)\n"
     ]
    }
   ],
   "source": [
    "min_samples = min(user_train.shape[0], item_train.shape[0], y_train.shape[0])\n",
    "\n",
    "user_train = user_train[:min_samples]\n",
    "item_train = item_train[:min_samples]\n",
    "y_train = y_train[:min_samples]\n",
    "\n",
    "print(user_train.shape, item_train.shape, y_train.shape)  "
   ]
  },
  {
   "cell_type": "code",
   "execution_count": 186,
   "id": "5e85354a-e4b2-4c4b-935c-f15f06a35c7a",
   "metadata": {},
   "outputs": [],
   "source": [
    "\n",
    "X_user = user_train\n",
    "\n",
    "X_item = item_train  #\n"
   ]
  },
  {
   "cell_type": "code",
   "execution_count": 187,
   "id": "9f18e1e5-e065-4f63-8661-d4ea8e3c73b1",
   "metadata": {},
   "outputs": [
    {
     "name": "stdout",
     "output_type": "stream",
     "text": [
      "User shape: (7573, 43) <class 'numpy.ndarray'>\n",
      "Item shape: (7573, 43) <class 'numpy.ndarray'>\n",
      "y_train shape: (7573, 1)\n"
     ]
    }
   ],
   "source": [
    "print(\"User shape:\", user_train.shape, type(user_train))\n",
    "print(\"Item shape:\", item_train.shape, type(item_train))\n",
    "print(\"y_train shape:\", y_train.shape)\n"
   ]
  },
  {
   "cell_type": "code",
   "execution_count": 245,
   "id": "db269f03-3f01-4514-a37c-f03cdea56f95",
   "metadata": {},
   "outputs": [
    {
     "name": "stdout",
     "output_type": "stream",
     "text": [
      "Epoch 1/100\n",
      "\u001b[1m190/190\u001b[0m \u001b[32m━━━━━━━━━━━━━━━━━━━━\u001b[0m\u001b[37m\u001b[0m \u001b[1m2s\u001b[0m 3ms/step - loss: 0.0805 - val_loss: 0.0607\n",
      "Epoch 2/100\n",
      "\u001b[1m190/190\u001b[0m \u001b[32m━━━━━━━━━━━━━━━━━━━━\u001b[0m\u001b[37m\u001b[0m \u001b[1m0s\u001b[0m 2ms/step - loss: 0.0623 - val_loss: 0.0610\n",
      "Epoch 3/100\n",
      "\u001b[1m190/190\u001b[0m \u001b[32m━━━━━━━━━━━━━━━━━━━━\u001b[0m\u001b[37m\u001b[0m \u001b[1m0s\u001b[0m 2ms/step - loss: 0.0617 - val_loss: 0.0611\n",
      "Epoch 4/100\n",
      "\u001b[1m190/190\u001b[0m \u001b[32m━━━━━━━━━━━━━━━━━━━━\u001b[0m\u001b[37m\u001b[0m \u001b[1m0s\u001b[0m 2ms/step - loss: 0.0611 - val_loss: 0.0614\n",
      "Epoch 5/100\n",
      "\u001b[1m190/190\u001b[0m \u001b[32m━━━━━━━━━━━━━━━━━━━━\u001b[0m\u001b[37m\u001b[0m \u001b[1m0s\u001b[0m 2ms/step - loss: 0.0607 - val_loss: 0.0613\n",
      "Epoch 6/100\n",
      "\u001b[1m190/190\u001b[0m \u001b[32m━━━━━━━━━━━━━━━━━━━━\u001b[0m\u001b[37m\u001b[0m \u001b[1m0s\u001b[0m 2ms/step - loss: 0.0603 - val_loss: 0.0612\n"
     ]
    },
    {
     "data": {
      "text/plain": [
       "<keras.src.callbacks.history.History at 0x11f3a984d70>"
      ]
     },
     "execution_count": 245,
     "metadata": {},
     "output_type": "execute_result"
    }
   ],
   "source": [
    "from keras.callbacks import EarlyStopping\n",
    "\n",
    "early_stop = EarlyStopping(\n",
    "    monitor='val_loss',     \n",
    "    patience=5,             \n",
    "    restore_best_weights=True\n",
    ")\n",
    "\n",
    "model.fit(\n",
    "    [user_train, item_train],\n",
    "    y_train,\n",
    "    validation_split=0.2,\n",
    "    epochs=100,\n",
    "    callbacks=[early_stop]\n",
    ")"
   ]
  },
  {
   "cell_type": "code",
   "execution_count": 246,
   "id": "506aedac-e8e1-48f7-8a98-956cc9c43d1e",
   "metadata": {},
   "outputs": [
    {
     "name": "stdout",
     "output_type": "stream",
     "text": [
      "(1894, 43) (1894, 43) (1894, 1)\n"
     ]
    }
   ],
   "source": [
    "min_samples = min(user_test.shape[0], item_test.shape[0], y_test.shape[0])\n",
    "\n",
    "user_test = user_test[:min_samples]\n",
    "item_test = item_test[:min_samples]\n",
    "y_test = y_test[:min_samples]\n",
    "\n",
    "print(user_test.shape, item_test.shape, y_test.shape)"
   ]
  },
  {
   "cell_type": "code",
   "execution_count": 247,
   "id": "c88fc12e-2283-4ee5-bf81-44da9733750b",
   "metadata": {},
   "outputs": [
    {
     "name": "stdout",
     "output_type": "stream",
     "text": [
      "\u001b[1m60/60\u001b[0m \u001b[32m━━━━━━━━━━━━━━━━━━━━\u001b[0m\u001b[37m\u001b[0m \u001b[1m0s\u001b[0m 1ms/step - loss: 0.0652\n"
     ]
    },
    {
     "data": {
      "text/plain": [
       "0.06464970111846924"
      ]
     },
     "execution_count": 247,
     "metadata": {},
     "output_type": "execute_result"
    }
   ],
   "source": [
    "model.evaluate([user_test, item_test], y_test)"
   ]
  },
  {
   "cell_type": "code",
   "execution_count": 248,
   "id": "7be49db1-961b-4db8-b1a7-824fd96912ee",
   "metadata": {},
   "outputs": [],
   "source": [
    "new_sh = pd.read_csv('converted_data.csv')\n",
    "anime_df = pd.read_csv(\"anime_with_avg_rating.csv\")\n",
    "anime_dict = dict(zip(anime_df['anime_id'], anime_df['name']))\n",
    "new_sh = anime_df.reset_index(drop=True)  "
   ]
  },
  {
   "cell_type": "code",
   "execution_count": 249,
   "id": "b5cb9c28-de5b-40a8-9fc9-10cee1e583af",
   "metadata": {},
   "outputs": [],
   "source": [
    "def split_str(ifeatures, smax):\n",
    "    ''' split the feature name strings to tables fit '''\n",
    "    ofeatures = []\n",
    "    for s in ifeatures:\n",
    "        if not ' ' in s:  \n",
    "            if len(s) > smax:\n",
    "                mid = int(len(s)/2)\n",
    "                s = s[:mid] + \" \" + s[mid:]\n",
    "        ofeatures.append(s)\n",
    "    return ofeatures\n",
    "\n",
    "def gen_user_vecs(user_vec, num_items):\n",
    "    \"\"\" given a user vector return:\n",
    "        user predict maxtrix to match the size of item_vecs \"\"\"\n",
    "    user_vecs = np.tile(user_vec, (num_items, 1))\n",
    "    return user_vecs\n",
    "\n",
    "def predict_uservec(user_vecs, item_vecs, model, u_s, i_s, scaler):\n",
    "    \"\"\" given a scaled user vector, does the prediction on all movies in scaled print_item_vecs returns\n",
    "        an array predictions sorted by predicted rating,\n",
    "        arrays of user and item, sorted by predicted rating sorting index\n",
    "    \"\"\"\n",
    "    y_p = model.predict([user_vecs[:, u_s:], item_vecs[:, i_s:]])\n",
    "    y_pu = scaler.inverse_transform(y_p)\n",
    "\n",
    "    if np.any(y_pu < 0):\n",
    "        print(\"Error, expected all positive predictions\")\n",
    "    sorted_index = np.argsort(-y_pu, axis=0).reshape(-1).tolist()  #negate to get largest rating first\n",
    "    sorted_ypu   = y_pu[sorted_index]\n",
    "    sorted_items = item_vecs[sorted_index]\n",
    "    sorted_user  = user_vecs[sorted_index]\n",
    "    return(sorted_index, sorted_ypu, sorted_items, sorted_user)\n",
    "                \n",
    "def get_user_vecs(user_id, user_train, item_vecs, user_to_genre):\n",
    "    \"\"\" given a user_id, return:\n",
    "        user train/predict matrix to match the size of item_vecs\n",
    "        y vector with ratings for all rated movies and 0 for others of size item_vecs \"\"\"\n",
    "\n",
    "    if not user_id in user_to_genre:\n",
    "        print(\"error: unknown user id\")\n",
    "        return None\n",
    "    else:\n",
    "        user_vec_found = False\n",
    "        for i in range(len(user_train)):\n",
    "            if user_train[i, 0] == user_id:\n",
    "                user_vec = user_train[i]\n",
    "                user_vec_found = True\n",
    "                break\n",
    "        if not user_vec_found:\n",
    "            print(\"error in get_user_vecs, did not find uid in user_train\")\n",
    "        num_items = len(item_vecs)\n",
    "        user_vecs = np.tile(user_vec, (num_items, 1))\n",
    "\n",
    "        y = np.zeros(num_items)\n",
    "        for i in range(num_items):  # walk through movies in item_vecs and get the movies, see if user has rated them\n",
    "            movie_id = item_vecs[i, 0]\n",
    "            if movie_id in user_to_genre[user_id]['movies']:\n",
    "                rating = user_to_genre[user_id]['movies'][movie_id]\n",
    "            else:\n",
    "                rating = 0\n",
    "            y[i] = rating\n",
    "    return(user_vecs, y)\n"
   ]
  },
  {
   "cell_type": "code",
   "execution_count": 250,
   "id": "da00b783-c5bc-4fd9-99b6-f53ef8d1e262",
   "metadata": {},
   "outputs": [],
   "source": [
    "def print_pred_movies(y_p, item, anime_dict, maxcount=10, show_all=False):\n",
    "    count = 0\n",
    "    for i in range(len(y_p)):\n",
    "        if count >= maxcount:\n",
    "            break\n",
    "        try:\n",
    "            anime_id = int(item.iloc[i]['anime_id']) if 'anime_id' in item.columns else i\n",
    "            \n",
    "            # Support for both types of anime_dict values\n",
    "            title = anime_dict.get(anime_id, {}).get('title') if isinstance(anime_dict.get(anime_id), dict) else anime_dict.get(anime_id, \"Unknown Title\")\n",
    "            \n",
    "            rating = float(y_p[i][0])\n",
    "            genre = item.iloc[i]['genre'] if 'genre' in item.columns else \"N/A\"\n",
    "\n",
    "            print(f\"{count+1:2d}. {title} (Predicted Rating: {rating:.2f}, Genre: {genre})\")\n",
    "            count += 1\n",
    "\n",
    "        except Exception as e:\n",
    "            print(f\"[WARN] Skipping row {i} due to error: {e}\")\n",
    "\n",
    "    if show_all:\n",
    "        print(\"\\nAll Predictions:\\n\", y_p)\n"
   ]
  },
  {
   "cell_type": "code",
   "execution_count": 255,
   "id": "769ec5b8-1b87-44a0-82d7-6e08eb411386",
   "metadata": {},
   "outputs": [],
   "source": [
    "genre_cols = ['Action', 'Adventure','Cars','Comedy','Dementia','Demons','Drama','Ecchi','Fantasy','Game','Harem','Hentai','Historical','Horror','Josei','Kids','Magic','Martial Arts','Mecha','Military','Music','Mystery','Parody','Police','Psychological','Romance','Samurai','School','Sci-Fi','Seinen','Shoujo','Shoujo Ai','Shounen','Shounen Ai','Slice of Life','Space','Sports','Super Power','Supernatural','Thriller','Vampire','Yaoi','Yuri']\n",
    "user_genre_prefs = {\n",
    "    \"Action\": 1,\n",
    "    \"Thriller\": 1,\n",
    "    \"Fantasy\": 1,\n",
    "}\n",
    "user_vec = [user_genre_prefs.get(col, 0) for col in genre_cols]\n"
   ]
  },
  {
   "cell_type": "code",
   "execution_count": 256,
   "id": "92e92a1b-421e-464f-afa0-5cf192162c6d",
   "metadata": {},
   "outputs": [
    {
     "name": "stdout",
     "output_type": "stream",
     "text": [
      "\u001b[1m385/385\u001b[0m \u001b[32m━━━━━━━━━━━━━━━━━━━━\u001b[0m\u001b[37m\u001b[0m \u001b[1m0s\u001b[0m 882us/step\n",
      " 1. Kingyo Chuuihou! (Movie) (Predicted Rating: 6.36, Genre: Action, Comedy, Kids, Shoujo)\n",
      " 2. Monster High: Kowa-ike Girls (Predicted Rating: 6.36, Genre: Kids, Shoujo, Supernatural)\n",
      " 3. Watashi to Watashi: Futari no Lotte (Predicted Rating: 6.36, Genre: Kids, Shoujo, Slice of Life)\n",
      " 4. Kingyo Chuuihou! (Predicted Rating: 6.36, Genre: Comedy, Kids, Shoujo)\n",
      " 5. Mr. Pen Pen II (Predicted Rating: 6.36, Genre: Comedy, Kids, Shoujo)\n",
      " 6. Mr. Pen Pen (Predicted Rating: 6.36, Genre: Comedy, Kids, Shoujo)\n",
      " 7. Ijime: Ikenie no Kyoushitsu (Predicted Rating: 6.36, Genre: Drama, Shoujo)\n",
      " 8. Glass no Kamen: Sen no Kamen wo Motsu Shoujo (Predicted Rating: 6.36, Genre: Drama, Shoujo)\n",
      " 9. Glass no Kamen (2005) (Predicted Rating: 6.36, Genre: Drama, Shoujo)\n",
      "10. Yuki no Taiyou Pilot (Predicted Rating: 6.36, Genre: Drama, Shoujo)\n",
      "11. Lady Lady!! (1988) (Predicted Rating: 6.36, Genre: Drama, Shoujo)\n",
      "12. Aru Hi Inu no Kuni kara Tegami ga Kite (Predicted Rating: 6.36, Genre: Drama, Shoujo)\n",
      "13. Boku no Chikyuu wo Mamotte (Predicted Rating: 6.36, Genre: Drama, Sci-Fi, Shoujo)\n",
      "14. Shin Kabukichou Story Hana no Asukagumi! (Predicted Rating: 6.36, Genre: Adventure, Drama, Shoujo)\n",
      "15. Hana no Asukagumi! 2: Lonely Cats Battle Royale (Predicted Rating: 6.36, Genre: Adventure, Drama, Shoujo)\n",
      "16. Kaleido Star: Aratanaru Tsubasa - Extra Stage (Predicted Rating: 6.36, Genre: Adventure, Comedy, Drama, Shoujo)\n",
      "17. Attack No.1: Namida no Kaiten Receive (Predicted Rating: 6.36, Genre: Drama, Shoujo, Sports)\n",
      "18. Ace wo Nerae! 2 (Predicted Rating: 6.36, Genre: Drama, Shoujo, Sports)\n",
      "19. Attack No.1: Namida no Sekai Senshuken (Predicted Rating: 6.36, Genre: Drama, Shoujo, Sports)\n",
      "20. Attack No.1 (Predicted Rating: 6.36, Genre: Drama, Shoujo, Sports)\n",
      "21. Attack No.1 (1970) (Predicted Rating: 6.36, Genre: Drama, Shoujo, Sports)\n",
      "22. Attack No.1: Namida no Fushichou (Predicted Rating: 6.36, Genre: Drama, Shoujo, Sports)\n",
      "23. Shutter Chance (Predicted Rating: 6.35, Genre: Drama, Kids)\n",
      "24. Kaneko Misuzu: Yasashisa no Fuukei (Predicted Rating: 6.35, Genre: Drama, Kids)\n",
      "25. Tanbai Haru, Tookaraji (Predicted Rating: 6.35, Genre: Drama, Kids)\n"
     ]
    }
   ],
   "source": [
    "\n",
    "item_vecs=pd.read_csv('cleaned_converted_data.csv')\n",
    "user_vecs = gen_user_vecs(user_vec,len(item_vecs))\n",
    "\n",
    "suser_vecs = scalerUser.transform(user_vecs)\n",
    "sitem_vecs = scalerItem.transform(item_vecs) \n",
    "\n",
    "y_p = model.predict([suser_vecs, sitem_vecs])\n",
    "\n",
    "\n",
    "y_pu = scalerTarget.inverse_transform(y_p)\n",
    "\n",
    "\n",
    "sorted_index = np.argsort(-y_pu,axis=0).reshape(-1).tolist()  \n",
    "sorted_ypu   = y_pu[sorted_index]\n",
    "sorted_items = new_sh.iloc[sorted_index]\n",
    " \n",
    "\n",
    "print_pred_movies(sorted_ypu, sorted_items, anime_dict, maxcount=25 )"
   ]
  }
 ],
 "metadata": {
  "kernelspec": {
   "display_name": "Python [conda env:base] *",
   "language": "python",
   "name": "conda-base-py"
  },
  "language_info": {
   "codemirror_mode": {
    "name": "ipython",
    "version": 3
   },
   "file_extension": ".py",
   "mimetype": "text/x-python",
   "name": "python",
   "nbconvert_exporter": "python",
   "pygments_lexer": "ipython3",
   "version": "3.12.7"
  }
 },
 "nbformat": 4,
 "nbformat_minor": 5
}
